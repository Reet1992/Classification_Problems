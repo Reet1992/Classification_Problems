{
 "cells": [
  {
   "cell_type": "code",
   "execution_count": 147,
   "metadata": {
    "collapsed": true
   },
   "outputs": [],
   "source": [
    "import numpy as np\n",
    "import pandas as pd\n",
    "import seaborn as sns\n",
    "import matplotlib.pyplot as plt"
   ]
  },
  {
   "cell_type": "code",
   "execution_count": 148,
   "metadata": {},
   "outputs": [
    {
     "name": "stdout",
     "output_type": "stream",
     "text": [
      "[[0.86801646 0.25521269 0.89689171]\n",
      " [0.9721327  0.79172929 0.01406396]]\n",
      "[[0.86801646 0.25521269 0.89689171]\n",
      " [0.9721327  0.79172929 0.01406396]]\n",
      "[[0.86801646 0.25521269 0.89689171]\n",
      " [0.9721327  0.79172929 0.01406396]]\n",
      "[[0.86801646 0.25521269 0.89689171]\n",
      " [0.9721327  0.79172929 0.01406396]]\n",
      "[[0.86801646 0.25521269 0.89689171]\n",
      " [0.9721327  0.79172929 0.01406396]]\n",
      "[[0.86801646 0.25521269 0.89689171]\n",
      " [0.9721327  0.79172929 0.01406396]]\n",
      "[[0.86801646 0.25521269 0.89689171]\n",
      " [0.9721327  0.79172929 0.01406396]]\n",
      "[[0.86801646 0.25521269 0.89689171]\n",
      " [0.9721327  0.79172929 0.01406396]]\n",
      "[[0.86801646 0.25521269 0.89689171]\n",
      " [0.9721327  0.79172929 0.01406396]]\n",
      "[[0.86801646 0.25521269 0.89689171]\n",
      " [0.9721327  0.79172929 0.01406396]]\n",
      "[[0.86801646 0.25521269 0.89689171]\n",
      " [0.9721327  0.79172929 0.01406396]]\n",
      "[[0.86801646 0.25521269 0.89689171]\n",
      " [0.9721327  0.79172929 0.01406396]]\n",
      "[[0.86801646 0.25521269 0.89689171]\n",
      " [0.9721327  0.79172929 0.01406396]]\n",
      "[[0.86801646 0.25521269 0.89689171]\n",
      " [0.9721327  0.79172929 0.01406396]]\n",
      "[[0.86801646 0.25521269 0.89689171]\n",
      " [0.9721327  0.79172929 0.01406396]]\n",
      "[[0.86801646 0.25521269 0.89689171]\n",
      " [0.9721327  0.79172929 0.01406396]]\n",
      "[[0.86801646 0.25521269 0.89689171]\n",
      " [0.9721327  0.79172929 0.01406396]]\n",
      "[[0.86801646 0.25521269 0.89689171]\n",
      " [0.9721327  0.79172929 0.01406396]]\n",
      "[[0.86801646 0.25521269 0.89689171]\n",
      " [0.9721327  0.79172929 0.01406396]]\n",
      "[[0.86801646 0.25521269 0.89689171]\n",
      " [0.9721327  0.79172929 0.01406396]]\n"
     ]
    }
   ],
   "source": [
    "x =0\n",
    "l1 =[]\n",
    "l2 =[]\n",
    "for i in range(0,20):\n",
    "    l1 = np.random.rand(2,10)\n",
    "    l2 = np.random.rand(2,10)\n",
    "    print(l)"
   ]
  },
  {
   "cell_type": "code",
   "execution_count": 149,
   "metadata": {},
   "outputs": [
    {
     "data": {
      "text/plain": [
       "array([[0.77066412, 0.2121626 , 0.73993315, 0.45179728, 0.41314002,\n",
       "        0.01308545, 0.5290815 , 0.46257236, 0.40059298, 0.49852461],\n",
       "       [0.66819615, 0.21579207, 0.63096411, 0.70794878, 0.37536527,\n",
       "        0.28183674, 0.52118961, 0.17311317, 0.24606734, 0.69148366]])"
      ]
     },
     "execution_count": 149,
     "metadata": {},
     "output_type": "execute_result"
    }
   ],
   "source": [
    "l1"
   ]
  },
  {
   "cell_type": "code",
   "execution_count": 150,
   "metadata": {},
   "outputs": [
    {
     "data": {
      "text/plain": [
       "array([[9.21831884e-01, 5.87720968e-01, 3.24270259e-01, 8.91319727e-01,\n",
       "        1.48495614e-01, 2.70511697e-01, 4.87723238e-04, 6.44046289e-01,\n",
       "        4.84581539e-01, 2.47606524e-02],\n",
       "       [5.38004003e-01, 3.84181331e-01, 4.46015634e-01, 3.26630940e-01,\n",
       "        2.75998612e-01, 5.27138576e-02, 1.49927860e-01, 6.35368782e-01,\n",
       "        3.28453928e-01, 1.59831797e-01]])"
      ]
     },
     "execution_count": 150,
     "metadata": {},
     "output_type": "execute_result"
    }
   ],
   "source": [
    "l2"
   ]
  },
  {
   "cell_type": "code",
   "execution_count": 151,
   "metadata": {},
   "outputs": [
    {
     "data": {
      "image/png": "[encoded data removed]",
      "text/plain": [
       "<Figure size 432x288 with 1 Axes>"
      ]
     },
     "metadata": {},
     "output_type": "display_data"
    }
   ],
   "source": [
    "plt.scatter(l1,l2)\n",
    "plt.show()"
   ]
  },
  {
   "cell_type": "code",
   "execution_count": 152,
   "metadata": {},
   "outputs": [
    {
     "data": {
      "text/html": [
       "<div>\n",
       "<style>\n",
       "    .dataframe thead tr:only-child th {\n",
       "        text-align: right;\n",
       "    }\n",
       "\n",
       "    .dataframe thead th {\n",
       "        text-align: left;\n",
       "    }\n",
       "\n",
       "    .dataframe tbody tr th {\n",
       "        vertical-align: top;\n",
       "    }\n",
       "</style>\n",
       "<table border=\"1\" class=\"dataframe\">\n",
       "  <thead>\n",
       "    <tr style=\"text-align: right;\">\n",
       "      <th></th>\n",
       "      <th>0</th>\n",
       "      <th>1</th>\n",
       "    </tr>\n",
       "  </thead>\n",
       "  <tbody>\n",
       "    <tr>\n",
       "      <th>0</th>\n",
       "      <td>0.770664</td>\n",
       "      <td>0.668196</td>\n",
       "    </tr>\n",
       "    <tr>\n",
       "      <th>1</th>\n",
       "      <td>0.212163</td>\n",
       "      <td>0.215792</td>\n",
       "    </tr>\n",
       "    <tr>\n",
       "      <th>2</th>\n",
       "      <td>0.739933</td>\n",
       "      <td>0.630964</td>\n",
       "    </tr>\n",
       "    <tr>\n",
       "      <th>3</th>\n",
       "      <td>0.451797</td>\n",
       "      <td>0.707949</td>\n",
       "    </tr>\n",
       "    <tr>\n",
       "      <th>4</th>\n",
       "      <td>0.413140</td>\n",
       "      <td>0.375365</td>\n",
       "    </tr>\n",
       "  </tbody>\n",
       "</table>\n",
       "</div>"
      ],
      "text/plain": [
       "          0         1\n",
       "0  0.770664  0.668196\n",
       "1  0.212163  0.215792\n",
       "2  0.739933  0.630964\n",
       "3  0.451797  0.707949\n",
       "4  0.413140  0.375365"
      ]
     },
     "execution_count": 152,
     "metadata": {},
     "output_type": "execute_result"
    }
   ],
   "source": [
    "l1 = pd.DataFrame(l1)\n",
    "l1 = l1.transpose()\n",
    "l1.head()"
   ]
  },
  {
   "cell_type": "code",
   "execution_count": 153,
   "metadata": {},
   "outputs": [
    {
     "data": {
      "text/html": [
       "<div>\n",
       "<style>\n",
       "    .dataframe thead tr:only-child th {\n",
       "        text-align: right;\n",
       "    }\n",
       "\n",
       "    .dataframe thead th {\n",
       "        text-align: left;\n",
       "    }\n",
       "\n",
       "    .dataframe tbody tr th {\n",
       "        vertical-align: top;\n",
       "    }\n",
       "</style>\n",
       "<table border=\"1\" class=\"dataframe\">\n",
       "  <thead>\n",
       "    <tr style=\"text-align: right;\">\n",
       "      <th></th>\n",
       "      <th>0</th>\n",
       "      <th>1</th>\n",
       "    </tr>\n",
       "  </thead>\n",
       "  <tbody>\n",
       "    <tr>\n",
       "      <th>0</th>\n",
       "      <td>0.921832</td>\n",
       "      <td>0.538004</td>\n",
       "    </tr>\n",
       "    <tr>\n",
       "      <th>1</th>\n",
       "      <td>0.587721</td>\n",
       "      <td>0.384181</td>\n",
       "    </tr>\n",
       "    <tr>\n",
       "      <th>2</th>\n",
       "      <td>0.324270</td>\n",
       "      <td>0.446016</td>\n",
       "    </tr>\n",
       "    <tr>\n",
       "      <th>3</th>\n",
       "      <td>0.891320</td>\n",
       "      <td>0.326631</td>\n",
       "    </tr>\n",
       "    <tr>\n",
       "      <th>4</th>\n",
       "      <td>0.148496</td>\n",
       "      <td>0.275999</td>\n",
       "    </tr>\n",
       "  </tbody>\n",
       "</table>\n",
       "</div>"
      ],
      "text/plain": [
       "          0         1\n",
       "0  0.921832  0.538004\n",
       "1  0.587721  0.384181\n",
       "2  0.324270  0.446016\n",
       "3  0.891320  0.326631\n",
       "4  0.148496  0.275999"
      ]
     },
     "execution_count": 153,
     "metadata": {},
     "output_type": "execute_result"
    }
   ],
   "source": [
    "l2 = pd.DataFrame(l2)\n",
    "l2 = l2.transpose()\n",
    "l2.head()"
   ]
  },
  {
   "cell_type": "code",
   "execution_count": 154,
   "metadata": {
    "collapsed": true
   },
   "outputs": [],
   "source": [
    "x_train = l1[0]\n",
    "y_train = l1[1]\n",
    "x_test = l2[0]\n",
    "y_test = l2[1]"
   ]
  },
  {
   "cell_type": "code",
   "execution_count": 155,
   "metadata": {},
   "outputs": [
    {
     "data": {
      "text/plain": [
       "(10, 2)"
      ]
     },
     "execution_count": 155,
     "metadata": {},
     "output_type": "execute_result"
    }
   ],
   "source": [
    "l1.shape"
   ]
  },
  {
   "cell_type": "code",
   "execution_count": 156,
   "metadata": {},
   "outputs": [
    {
     "name": "stdout",
     "output_type": "stream",
     "text": [
      "[[0.43372771 0.90891829 0.96863119 0.6896609  0.38303775 0.86464915\n",
      "  0.6047967  0.6264857  0.74682357 0.6310182 ]\n",
      " [0.83909203 0.67959598 0.78176784 0.82171055 0.39300556 0.81011538\n",
      "  0.73146106 0.96913844 0.6803543  0.21283659]]\n",
      "[[0.15330357 0.56152822 0.94869083 0.32197087 0.05952145 0.28477547\n",
      "  0.6349541  0.06012284 0.19012863 0.02690907]\n",
      " [0.88184729 0.35754887 0.29418884 0.69137714 0.43132607 0.85413737\n",
      "  0.9602821  0.08402846 0.51279507 0.91864547]]\n",
      "[[0.78049462 0.51774225 0.70401633 0.28639625 0.66103091 0.68447974\n",
      "  0.99617429 0.49532893 0.24856468 0.2721106 ]\n",
      " [0.56935936 0.29757779 0.54882897 0.41939813 0.64355196 0.9423635\n",
      "  0.70801842 0.59686468 0.74441316 0.77571035]]\n",
      "[[0.49401594 0.59948525 0.24454112 0.71883676 0.41367456 0.7966823\n",
      "  0.80913685 0.91407916 0.11125529 0.26256566]\n",
      " [0.81161396 0.9574197  0.37298132 0.71050941 0.45902589 0.19785055\n",
      "  0.03995561 0.29922802 0.21023097 0.86134355]]\n",
      "[[0.35454038 0.32337444 0.06450159 0.8214706  0.62236992 0.85523202\n",
      "  0.55431207 0.66640359 0.48146251 0.14313113]\n",
      " [0.60250807 0.98200811 0.8451602  0.15455469 0.78743819 0.27829281\n",
      "  0.31914234 0.05862468 0.02330982 0.53318571]]\n",
      "[[0.18381801 0.44059068 0.27079105 0.91055725 0.54130494 0.45583205\n",
      "  0.81579101 0.4836805  0.26855989 0.14670469]\n",
      " [0.51154436 0.07712871 0.98292722 0.4789323  0.19980749 0.5535546\n",
      "  0.58096761 0.89644068 0.06593477 0.74697978]]\n",
      "[[0.01347662 0.54080225 0.52323605 0.13057458 0.73913611 0.1068771\n",
      "  0.72992811 0.18054676 0.83533533 0.73104214]\n",
      " [0.98124517 0.86111548 0.94187111 0.26439627 0.41557725 0.01207433\n",
      "  0.31935969 0.61643749 0.19185106 0.30987668]]\n",
      "[[0.29053881 0.92270672 0.75283325 0.41146345 0.72955609 0.73721295\n",
      "  0.22346095 0.21425743 0.9822546  0.91340473]\n",
      " [0.31084648 0.00895453 0.2345014  0.21304932 0.74316546 0.37846489\n",
      "  0.97344249 0.80388232 0.75207181 0.56759503]]\n",
      "[[0.16566241 0.92386444 0.02550676 0.88877793 0.36983987 0.55478723\n",
      "  0.01797463 0.22559623 0.98304466 0.34910376]\n",
      " [0.29046316 0.58266024 0.14164935 0.20422253 0.93454855 0.12811832\n",
      "  0.18719926 0.01485156 0.35552565 0.40082493]]\n",
      "[[0.68934358 0.97293228 0.61446597 0.89827196 0.34551921 0.91674997\n",
      "  0.67026452 0.25982652 0.94562103 0.73143033]\n",
      " [0.29159636 0.69928829 0.97841298 0.83982787 0.13284055 0.11420386\n",
      "  0.72750548 0.74119302 0.76828709 0.58860905]]\n",
      "[[0.00999554 0.95736855 0.03293831 0.63964516 0.81910449 0.4221158\n",
      "  0.39968688 0.16523265 0.61733423 0.48349264]\n",
      " [0.12522704 0.70650536 0.77436345 0.53091493 0.34006077 0.55012061\n",
      "  0.99029076 0.93328922 0.96965859 0.58774772]]\n",
      "[[0.53533636 0.91393937 0.05535418 0.7208404  0.22868288 0.24158176\n",
      "  0.42802059 0.54650215 0.33323034 0.2786676 ]\n",
      " [0.23852308 0.57489509 0.53825658 0.86620733 0.79403113 0.56364089\n",
      "  0.93475339 0.30668532 0.03440629 0.22724425]]\n",
      "[[0.88161566 0.448555   0.363746   0.72597217 0.42800718 0.94069113\n",
      "  0.47113438 0.1791647  0.94300368 0.43337252]\n",
      " [0.80404952 0.47661544 0.46735402 0.74140155 0.56522892 0.39856947\n",
      "  0.60342237 0.5995766  0.12716616 0.85322205]]\n",
      "[[0.41171522 0.99021946 0.68062563 0.94499665 0.47930455 0.85324359\n",
      "  0.5429892  0.36146039 0.91022483 0.81460684]\n",
      " [0.79574565 0.88812321 0.75922249 0.63232841 0.6336293  0.33708453\n",
      "  0.57433105 0.73158996 0.86581476 0.10888728]]\n",
      "[[0.56981989 0.68975405 0.6841782  0.99362421 0.81122148 0.9385359\n",
      "  0.61088326 0.80613573 0.28522021 0.13140812]\n",
      " [0.02014805 0.92467211 0.28568696 0.87618186 0.75784876 0.32328626\n",
      "  0.86777798 0.98076696 0.09042093 0.13548249]]\n",
      "[[0.77456721 0.42795885 0.50899313 0.82000241 0.57289076 0.81161302\n",
      "  0.71344886 0.38060571 0.03301228 0.4784401 ]\n",
      " [0.46427382 0.86554379 0.97055696 0.13288839 0.92752154 0.60491376\n",
      "  0.96438286 0.05649921 0.23184424 0.09445002]]\n",
      "[[0.61529389 0.66066538 0.48126993 0.16828566 0.67976456 0.73344597\n",
      "  0.91916365 0.72419191 0.70354557 0.07647854]\n",
      " [0.1734862  0.12587389 0.73821813 0.83782311 0.79345833 0.30686811\n",
      "  0.41879357 0.95080805 0.70156009 0.45793542]]\n",
      "[[0.16033657 0.27363948 0.83752888 0.09644856 0.92837492 0.16283039\n",
      "  0.35969552 0.88524324 0.72834023 0.53771005]\n",
      " [0.16361627 0.10298151 0.87754983 0.43195262 0.27664652 0.00529981\n",
      "  0.1685994  0.14736807 0.44880364 0.44711736]]\n",
      "[[0.75801723 0.14084388 0.56543714 0.54972785 0.01384062 0.46963638\n",
      "  0.72143294 0.00666671 0.82510879 0.85838528]\n",
      " [0.73148857 0.46805147 0.82497087 0.3562622  0.76334478 0.21790269\n",
      "  0.08170495 0.86073016 0.68786989 0.03505924]]\n",
      "[[0.48268654 0.75301897 0.44515131 0.39070421 0.61541936 0.68118703\n",
      "  0.74679655 0.05812503 0.66629521 0.58113615]\n",
      " [0.12858923 0.91013996 0.08064742 0.05482319 0.83893608 0.59055404\n",
      "  0.05491923 0.79314594 0.64046787 0.94328359]]\n",
      "[[0.57281541 0.76362892 0.0175865  0.14479077 0.16543709 0.66853971\n",
      "  0.42273238 0.36277924 0.82130628 0.49562228]\n",
      " [0.02603476 0.34757991 0.88914687 0.07520214 0.70638994 0.79128849\n",
      "  0.63684651 0.37474073 0.57855694 0.87892366]]\n",
      "[[0.66522544 0.65208991 0.3408202  0.36918202 0.49298405 0.18237507\n",
      "  0.66662955 0.38229357 0.89684146 0.20034111]\n",
      " [0.32484428 0.49277483 0.48923586 0.90277087 0.50825045 0.00129856\n",
      "  0.97698821 0.32957217 0.3986184  0.22092363]]\n",
      "[[0.44224813 0.10052112 0.29110331 0.10049158 0.68895675 0.38970063\n",
      "  0.46437739 0.66632272 0.41276712 0.92804511]\n",
      " [0.94167541 0.18475874 0.19439167 0.41974334 0.39937552 0.00885246\n",
      "  0.59558211 0.52926112 0.81745493 0.80447688]]\n",
      "[[0.79685586 0.51715849 0.67945943 0.46782232 0.81351888 0.1771485\n",
      "  0.49446639 0.9268782  0.25879237 0.67577794]\n",
      " [0.41980059 0.71728181 0.68844633 0.67956363 0.72702445 0.99491864\n",
      "  0.25949277 0.30034293 0.61103362 0.31202441]]\n",
      "[[0.71238074 0.22224079 0.4542076  0.44923378 0.65834181 0.16117967\n",
      "  0.03923376 0.17214386 0.11900684 0.61530682]\n",
      " [0.18771743 0.91248851 0.19161618 0.27791582 0.93056491 0.06841778\n",
      "  0.38206581 0.04091271 0.99474261 0.46021657]]\n",
      "[[0.60685025 0.58472533 0.78091173 0.32309852 0.87497385 0.25726371\n",
      "  0.3209195  0.25756471 0.36930107 0.21819663]\n",
      " [0.29979691 0.79010262 0.8067494  0.05847427 0.53271072 0.11857708\n",
      "  0.94170005 0.1076123  0.32770637 0.87088283]]\n",
      "[[0.89757855 0.01692752 0.47472636 0.85007954 0.61035735 0.01041534\n",
      "  0.65437015 0.80473949 0.74181044 0.6809629 ]\n",
      " [0.53641711 0.88227296 0.08231666 0.06692029 0.33078379 0.24843401\n",
      "  0.15411271 0.46760013 0.14789179 0.53238101]]\n",
      "[[0.94077094 0.09244108 0.38848976 0.39971979 0.83585288 0.94016524\n",
      "  0.54041355 0.08756096 0.43458734 0.75498785]\n",
      " [0.44870465 0.51919102 0.34248083 0.16793375 0.95366019 0.42543443\n",
      "  0.10275841 0.30694033 0.5435751  0.77228093]]\n",
      "[[0.79324919 0.05279168 0.37329249 0.85484606 0.46629635 0.60967278\n",
      "  0.06178772 0.93756561 0.48646839 0.86147425]\n",
      " [0.23907271 0.36482682 0.82489541 0.17301451 0.47132513 0.5934636\n",
      "  0.64045021 0.57403911 0.78428735 0.54020379]]\n",
      "[[0.30491969 0.54753985 0.45143499 0.50970678 0.47442588 0.22759757\n",
      "  0.93801669 0.25772746 0.15546028 0.73329353]\n",
      " [0.50145533 0.50220809 0.86302425 0.85201261 0.07584746 0.45661685\n",
      "  0.27728006 0.17021986 0.09443236 0.45254532]]\n",
      "[[0.00270737 0.2805629  0.95141786 0.91457295 0.77756078 0.7833962\n",
      "  0.92584918 0.09078082 0.52349919 0.83388851]\n",
      " [0.0082837  0.5354415  0.35807949 0.06916912 0.79197735 0.71767122\n",
      "  0.51033471 0.42907866 0.11696594 0.01444952]]\n",
      "[[0.36954894 0.51927056 0.61684009 0.83601723 0.3345606  0.31893626\n",
      "  0.12099944 0.15227538 0.63900857 0.59280081]\n",
      " [0.4707005  0.67742647 0.62667408 0.4236079  0.18022927 0.42465025\n",
      "  0.57554291 0.53624836 0.99204454 0.57669269]]\n",
      "[[0.89546301 0.00219563 0.24672407 0.91709345 0.00957286 0.05075383\n",
      "  0.32278311 0.35946596 0.81750905 0.34989102]\n",
      " [0.19231374 0.07369437 0.41685982 0.96251025 0.7796725  0.01737456\n",
      "  0.65264425 0.56296593 0.70395542 0.58230493]]\n",
      "[[0.42044284 0.68792115 0.47353434 0.36420541 0.51397461 0.63667186\n",
      "  0.60123184 0.28039042 0.2867814  0.34896446]\n",
      " [0.21611253 0.32575419 0.32097436 0.09281202 0.75112767 0.05823956\n",
      "  0.79267833 0.43201652 0.47584473 0.21138505]]\n",
      "[[0.66047548 0.53802418 0.95137398 0.99875538 0.52813475 0.85707284\n",
      "  0.80488254 0.57176997 0.93400058 0.57973334]\n",
      " [0.76171663 0.07043359 0.33122155 0.31190008 0.32235376 0.55320312\n",
      "  0.39301435 0.09672857 0.21402662 0.45993133]]\n",
      "[[0.59037259 0.5488433  0.27152439 0.84049057 0.68377728 0.48460778\n",
      "  0.04834212 0.5544276  0.02906938 0.16636217]\n",
      " [0.0921734  0.75251901 0.73578475 0.05143499 0.84963242 0.54959512\n",
      "  0.01813837 0.08944067 0.45818285 0.05794918]]\n",
      "[[0.83300945 0.05077476 0.06790809 0.7595457  0.59323127 0.86430384\n",
      "  0.19241466 0.81039344 0.40352141 0.99456661]\n",
      " [0.979792   0.2860329  0.57049126 0.31985761 0.13576443 0.65254044\n",
      "  0.64323058 0.21418477 0.56295503 0.25923675]]\n",
      "[[0.62317684 0.09294634 0.13217194 0.57350248 0.60660668 0.29725199\n",
      "  0.88654644 0.25921405 0.62016659 0.00299217]\n",
      " [0.68165645 0.22608102 0.66169476 0.59923126 0.01447033 0.29762136\n",
      "  0.32734939 0.61350859 0.07411298 0.39205245]]\n",
      "[[0.01472197 0.21333201 0.48172498 0.24365685 0.19836441 0.21044651\n",
      "  0.02346066 0.33366238 0.64980898 0.58647557]\n",
      " [0.32542364 0.29223734 0.53529368 0.20950873 0.71912313 0.48676778\n",
      "  0.73257352 0.9885809  0.56728259 0.0529784 ]]\n",
      "[[0.74949444 0.08070458 0.81027699 0.36122158 0.141864   0.4263027\n",
      "  0.73169822 0.20675219 0.71678724 0.46588346]\n",
      " [0.43066752 0.69979366 0.48328588 0.39662792 0.41239814 0.96046218\n",
      "  0.99494108 0.98050798 0.60679213 0.3619945 ]]\n"
     ]
    }
   ],
   "source": [
    "x =0\n",
    "l3 =[]\n",
    "l4 =[]\n",
    "for i in range(0,20):\n",
    "    l3 = np.random.rand(2,10)\n",
    "    l4 = np.random.rand(2,10)\n",
    "    print(l3)\n",
    "    print(l4)"
   ]
  },
  {
   "cell_type": "code",
   "execution_count": 157,
   "metadata": {},
   "outputs": [],
   "source": [
    "l3 = pd.DataFrame(l3)\n",
    "l3 = l3.transpose()"
   ]
  },
  {
   "cell_type": "code",
   "execution_count": 158,
   "metadata": {},
   "outputs": [],
   "source": [
    "l4 = pd.DataFrame(l4)\n",
    "l4 = l4.transpose()"
   ]
  },
  {
   "cell_type": "code",
   "execution_count": 159,
   "metadata": {},
   "outputs": [
    {
     "data": {
      "text/plain": [
       "(10, 2)"
      ]
     },
     "execution_count": 159,
     "metadata": {},
     "output_type": "execute_result"
    }
   ],
   "source": [
    "l4.shape"
   ]
  },
  {
   "cell_type": "code",
   "execution_count": 160,
   "metadata": {},
   "outputs": [],
   "source": [
    "import sklearn\n",
    "from sklearn.linear_model import LinearRegression"
   ]
  },
  {
   "cell_type": "code",
   "execution_count": 161,
   "metadata": {
    "collapsed": true
   },
   "outputs": [],
   "source": [
    "model = LinearRegression()"
   ]
  },
  {
   "cell_type": "code",
   "execution_count": 162,
   "metadata": {},
   "outputs": [
    {
     "data": {
      "text/plain": [
       "LinearRegression(copy_X=True, fit_intercept=True, n_jobs=1, normalize=False)"
      ]
     },
     "execution_count": 162,
     "metadata": {},
     "output_type": "execute_result"
    }
   ],
   "source": [
    "z = model.fit(l1,l2)\n",
    "z"
   ]
  },
  {
   "cell_type": "code",
   "execution_count": 163,
   "metadata": {},
   "outputs": [],
   "source": [
    "predict = model.predict(l3)"
   ]
  },
  {
   "cell_type": "code",
   "execution_count": 164,
   "metadata": {},
   "outputs": [],
   "source": [
    "from sklearn.metrics import accuracy_score\n"
   ]
  },
  {
   "cell_type": "code",
   "execution_count": 92,
   "metadata": {},
   "outputs": [
    {
     "ename": "AttributeError",
     "evalue": "'LinearRegression' object has no attribute 'accuracy_score'",
     "output_type": "error",
     "traceback": [
      "\u001b[1;31m---------------------------------------------------------------------------\u001b[0m",
      "\u001b[1;31mAttributeError\u001b[0m                            Traceback (most recent call last)",
      "\u001b[1;32m<ipython-input-92-a46caf8e2e50>\u001b[0m in \u001b[0;36m<module>\u001b[1;34m()\u001b[0m\n\u001b[1;32m----> 1\u001b[1;33m \u001b[0mmodel\u001b[0m\u001b[1;33m.\u001b[0m\u001b[0maccuracy_score\u001b[0m\u001b[1;33m(\u001b[0m\u001b[0mpredict\u001b[0m\u001b[1;33m,\u001b[0m\u001b[0ml4\u001b[0m\u001b[1;33m)\u001b[0m\u001b[1;33m\u001b[0m\u001b[0m\n\u001b[0m",
      "\u001b[1;31mAttributeError\u001b[0m: 'LinearRegression' object has no attribute 'accuracy_score'"
     ]
    }
   ],
   "source": [
    "model.accuracy_score(predict,l4)"
   ]
  },
  {
   "cell_type": "code",
   "execution_count": 166,
   "metadata": {},
   "outputs": [
    {
     "data": {
      "text/plain": [
       "-3.001716940499561"
      ]
     },
     "execution_count": 166,
     "metadata": {},
     "output_type": "execute_result"
    }
   ],
   "source": [
    "from sklearn import metrics\n",
    "accuracy = metrics.r2_score(l4,predict)\n",
    "accuracy"
   ]
  },
  {
   "cell_type": "code",
   "execution_count": 167,
   "metadata": {},
   "outputs": [
    {
     "data": {
      "text/plain": [
       "(10, 2)"
      ]
     },
     "execution_count": 167,
     "metadata": {},
     "output_type": "execute_result"
    }
   ],
   "source": [
    "predict.shape"
   ]
  },
  {
   "cell_type": "code",
   "execution_count": 168,
   "metadata": {},
   "outputs": [
    {
     "data": {
      "text/plain": [
       "(10, 2)"
      ]
     },
     "execution_count": 168,
     "metadata": {},
     "output_type": "execute_result"
    }
   ],
   "source": [
    "l4.shape"
   ]
  },
  {
   "cell_type": "code",
   "execution_count": 179,
   "metadata": {},
   "outputs": [],
   "source": [
    "predict = pd.DataFrame(predict)\n",
    "predict = predict.transpose()"
   ]
  },
  {
   "cell_type": "code",
   "execution_count": 180,
   "metadata": {},
   "outputs": [
    {
     "data": {
      "text/plain": [
       "<matplotlib.collections.PathCollection at 0x201432116a0>"
      ]
     },
     "execution_count": 180,
     "metadata": {},
     "output_type": "execute_result"
    }
   ],
   "source": [
    "plt.scatter(predict,l4)"
   ]
  },
  {
   "cell_type": "code",
   "execution_count": 181,
   "metadata": {},
   "outputs": [
    {
     "data": {
      "image/png": "[encoded data removed]",
      "text/plain": [
       "<Figure size 432x288 with 1 Axes>"
      ]
     },
     "metadata": {},
     "output_type": "display_data"
    }
   ],
   "source": [
    "plt.show()"
   ]
  },
  {
   "cell_type": "code",
   "execution_count": 182,
   "metadata": {},
   "outputs": [],
   "source": [
    " f = plt.hist(predict)\n"
   ]
  },
  {
   "cell_type": "code",
   "execution_count": 183,
   "metadata": {},
   "outputs": [
    {
     "data": {
      "image/png": "[encoded data removed]",
      "text/plain": [
       "<Figure size 432x288 with 1 Axes>"
      ]
     },
     "metadata": {},
     "output_type": "display_data"
    }
   ],
   "source": [
    "plt.show()"
   ]
  },
  {
   "cell_type": "code",
   "execution_count": null,
   "metadata": {},
   "outputs": [],
   "source": []
  },
  {
   "cell_type": "code",
   "execution_count": 184,
   "metadata": {
    "collapsed": true
   },
   "outputs": [],
   "source": [
    "from sklearn.cluster import KMeans\n",
    "\n",
    "Kmean = KMeans(n_clusters=2)"
   ]
  },
  {
   "cell_type": "code",
   "execution_count": 185,
   "metadata": {},
   "outputs": [
    {
     "data": {
      "text/plain": [
       "KMeans(algorithm='auto', copy_x=True, init='k-means++', max_iter=300,\n",
       "    n_clusters=2, n_init=10, n_jobs=1, precompute_distances='auto',\n",
       "    random_state=None, tol=0.0001, verbose=0)"
      ]
     },
     "execution_count": 185,
     "metadata": {},
     "output_type": "execute_result"
    }
   ],
   "source": [
    "Kmean.fit(predict)"
   ]
  },
  {
   "cell_type": "code",
   "execution_count": 186,
   "metadata": {},
   "outputs": [
    {
     "data": {
      "text/plain": [
       "array([[ 0.26902817, -0.03867915],\n",
       "       [ 0.45054187,  0.39402128]])"
      ]
     },
     "execution_count": 186,
     "metadata": {},
     "output_type": "execute_result"
    }
   ],
   "source": [
    "Kmean.cluster_centers_"
   ]
  },
  {
   "cell_type": "code",
   "execution_count": 187,
   "metadata": {},
   "outputs": [
    {
     "data": {
      "image/png": "[encoded data removed]",
      "text/plain": [
       "<Figure size 432x288 with 1 Axes>"
      ]
     },
     "metadata": {},
     "output_type": "display_data"
    }
   ],
   "source": [
    "plt.scatter(predict[0],predict[1])\n",
    "plt.scatter(0.26902817, -0.03867915,c = 'g', marker = 's')\n",
    "plt.scatter(0.45054187,  0.39402128,c = 'r', marker = 's')\n",
    "plt.show()"
   ]
  },
  {
   "cell_type": "code",
   "execution_count": 188,
   "metadata": {},
   "outputs": [
    {
     "data": {
      "text/plain": [
       "array([[0.36136443, 0.90892623],\n",
       "       [0.54092129, 0.44862768]])"
      ]
     },
     "execution_count": 188,
     "metadata": {},
     "output_type": "execute_result"
    }
   ],
   "source": [
    "Kmean.fit(l4)\n",
    "Kmean.cluster_centers_"
   ]
  },
  {
   "cell_type": "code",
   "execution_count": 189,
   "metadata": {},
   "outputs": [
    {
     "data": {
      "image/png": "[encoded data removed]",
      "text/plain": [
       "<Figure size 432x288 with 1 Axes>"
      ]
     },
     "metadata": {},
     "output_type": "display_data"
    }
   ],
   "source": [
    "plt.scatter(l4[0],l4[1])\n",
    "plt.scatter(0.36136443, 0.90892623,c = 'g', marker = 's')\n",
    "plt.scatter(0.54092129, 0.44862768,c = 'r', marker = 's')\n",
    "plt.show()"
   ]
  },
  {
   "cell_type": "code",
   "execution_count": 190,
   "metadata": {},
   "outputs": [
    {
     "data": {
      "text/html": [
       "<div>\n",
       "<style>\n",
       "    .dataframe thead tr:only-child th {\n",
       "        text-align: right;\n",
       "    }\n",
       "\n",
       "    .dataframe thead th {\n",
       "        text-align: left;\n",
       "    }\n",
       "\n",
       "    .dataframe tbody tr th {\n",
       "        vertical-align: top;\n",
       "    }\n",
       "</style>\n",
       "<table border=\"1\" class=\"dataframe\">\n",
       "  <thead>\n",
       "    <tr style=\"text-align: right;\">\n",
       "      <th></th>\n",
       "      <th>0</th>\n",
       "      <th>1</th>\n",
       "    </tr>\n",
       "  </thead>\n",
       "  <tbody>\n",
       "    <tr>\n",
       "      <th>0</th>\n",
       "      <td>0.284266</td>\n",
       "      <td>0.050901</td>\n",
       "    </tr>\n",
       "    <tr>\n",
       "      <th>1</th>\n",
       "      <td>0.370784</td>\n",
       "      <td>0.235922</td>\n",
       "    </tr>\n",
       "    <tr>\n",
       "      <th>2</th>\n",
       "      <td>0.424260</td>\n",
       "      <td>0.303224</td>\n",
       "    </tr>\n",
       "    <tr>\n",
       "      <th>3</th>\n",
       "      <td>0.401107</td>\n",
       "      <td>0.313463</td>\n",
       "    </tr>\n",
       "    <tr>\n",
       "      <th>4</th>\n",
       "      <td>0.270748</td>\n",
       "      <td>-0.047373</td>\n",
       "    </tr>\n",
       "    <tr>\n",
       "      <th>5</th>\n",
       "      <td>0.326767</td>\n",
       "      <td>0.110074</td>\n",
       "    </tr>\n",
       "    <tr>\n",
       "      <th>6</th>\n",
       "      <td>0.198032</td>\n",
       "      <td>-0.200297</td>\n",
       "    </tr>\n",
       "    <tr>\n",
       "      <th>7</th>\n",
       "      <td>0.265328</td>\n",
       "      <td>-0.106701</td>\n",
       "    </tr>\n",
       "    <tr>\n",
       "      <th>8</th>\n",
       "      <td>0.484243</td>\n",
       "      <td>0.421679</td>\n",
       "    </tr>\n",
       "    <tr>\n",
       "      <th>9</th>\n",
       "      <td>0.572316</td>\n",
       "      <td>0.695818</td>\n",
       "    </tr>\n",
       "  </tbody>\n",
       "</table>\n",
       "</div>"
      ],
      "text/plain": [
       "          0         1\n",
       "0  0.284266  0.050901\n",
       "1  0.370784  0.235922\n",
       "2  0.424260  0.303224\n",
       "3  0.401107  0.313463\n",
       "4  0.270748 -0.047373\n",
       "5  0.326767  0.110074\n",
       "6  0.198032 -0.200297\n",
       "7  0.265328 -0.106701\n",
       "8  0.484243  0.421679\n",
       "9  0.572316  0.695818"
      ]
     },
     "execution_count": 190,
     "metadata": {},
     "output_type": "execute_result"
    }
   ],
   "source": [
    "predict"
   ]
  },
  {
   "cell_type": "code",
   "execution_count": 193,
   "metadata": {},
   "outputs": [],
   "source": [
    "predict= predict.append(l4)"
   ]
  },
  {
   "cell_type": "code",
   "execution_count": 196,
   "metadata": {},
   "outputs": [
    {
     "data": {
      "text/plain": [
       "([array([0., 0., 1., 0., 1., 0., 0., 0., 0., 0.]),\n",
       "  array([0., 0., 0., 1., 1., 0., 0., 0., 0., 0.]),\n",
       "  array([0., 0., 0., 0., 1., 1., 0., 0., 0., 0.]),\n",
       "  array([0., 0., 0., 0., 1., 1., 0., 0., 0., 0.]),\n",
       "  array([0., 1., 0., 1., 0., 0., 0., 0., 0., 0.]),\n",
       "  array([0., 0., 1., 0., 1., 0., 0., 0., 0., 0.]),\n",
       "  array([1., 0., 0., 1., 0., 0., 0., 0., 0., 0.]),\n",
       "  array([1., 0., 0., 1., 0., 0., 0., 0., 0., 0.]),\n",
       "  array([0., 0., 0., 0., 0., 2., 0., 0., 0., 0.]),\n",
       "  array([0., 0., 0., 0., 0., 0., 1., 1., 0., 0.]),\n",
       "  array([0., 0., 0., 0., 0., 1., 0., 1., 0., 0.]),\n",
       "  array([0., 0., 1., 0., 0., 0., 0., 1., 0., 0.]),\n",
       "  array([0., 0., 0., 0., 0., 1., 0., 0., 1., 0.]),\n",
       "  array([0., 0., 0., 0., 2., 0., 0., 0., 0., 0.]),\n",
       "  array([0., 0., 1., 0., 0., 1., 0., 0., 0., 0.]),\n",
       "  array([0., 0., 0., 0., 0., 1., 0., 0., 0., 1.]),\n",
       "  array([0., 0., 0., 0., 0., 0., 0., 1., 0., 1.]),\n",
       "  array([0., 0., 0., 1., 0., 0., 0., 0., 0., 1.]),\n",
       "  array([0., 0., 0., 0., 0., 0., 1., 1., 0., 0.]),\n",
       "  array([0., 0., 0., 0., 1., 1., 0., 0., 0., 0.])],\n",
       " array([-0.20029742, -0.08077357,  0.03875028,  0.15827413,  0.27779798,\n",
       "         0.39732183,  0.51684568,  0.63636953,  0.75589338,  0.87541723,\n",
       "         0.99494108]),\n",
       " <a list of 20 Lists of Patches objects>)"
      ]
     },
     "execution_count": 196,
     "metadata": {},
     "output_type": "execute_result"
    }
   ],
   "source": [
    "plt.hist(predict)"
   ]
  },
  {
   "cell_type": "code",
   "execution_count": 197,
   "metadata": {},
   "outputs": [
    {
     "data": {
      "image/png": "[encoded data removed]",
      "text/plain": [
       "<Figure size 432x288 with 1 Axes>"
      ]
     },
     "metadata": {},
     "output_type": "display_data"
    }
   ],
   "source": [
    "plt.show()"
   ]
  },
  {
   "cell_type": "code",
   "execution_count": 198,
   "metadata": {},
   "outputs": [
    {
     "data": {
      "image/png": "[encoded data removed]",
      "text/plain": [
       "<Figure size 432x288 with 1 Axes>"
      ]
     },
     "metadata": {},
     "output_type": "display_data"
    }
   ],
   "source": [
    "plt.scatter(predict[0],predict[1])\n",
    "plt.show()"
   ]
  },
  {
   "cell_type": "code",
   "execution_count": 199,
   "metadata": {},
   "outputs": [
    {
     "data": {
      "text/plain": [
       "array([[0.5367915 , 0.73153352],\n",
       "       [0.3328753 , 0.18765946]])"
      ]
     },
     "execution_count": 199,
     "metadata": {},
     "output_type": "execute_result"
    }
   ],
   "source": [
    "Kmean.fit(predict)\n",
    "Kmean.cluster_centers_"
   ]
  },
  {
   "cell_type": "code",
   "execution_count": 200,
   "metadata": {},
   "outputs": [
    {
     "data": {
      "image/png": "[encoded data removed]",
      "text/plain": [
       "<Figure size 432x288 with 1 Axes>"
      ]
     },
     "metadata": {},
     "output_type": "display_data"
    }
   ],
   "source": [
    "plt.scatter(l4[0],l4[1])\n",
    "plt.scatter(0.5367915 , 0.73153352,c = 'g', marker = 's')\n",
    "plt.scatter(0.3328753 , 0.18765946,c = 'r', marker = 's')\n",
    "plt.show()"
   ]
  },
  {
   "cell_type": "code",
   "execution_count": 201,
   "metadata": {
    "collapsed": true
   },
   "outputs": [],
   "source": [
    "import matplotlib.animation as animation\n"
   ]
  },
  {
   "cell_type": "code",
   "execution_count": null,
   "metadata": {
    "collapsed": true
   },
   "outputs": [],
   "source": []
  }
 ],
 "metadata": {
  "kernelspec": {
   "display_name": "Python 3",
   "language": "python",
   "name": "python3"
  },
  "language_info": {
   "codemirror_mode": {
    "name": "ipython",
    "version": 3
   },
   "file_extension": ".py",
   "mimetype": "text/x-python",
   "name": "python",
   "nbconvert_exporter": "python",
   "pygments_lexer": "ipython3",
   "version": "3.6.3"
  }
 },
 "nbformat": 4,
 "nbformat_minor": 2
}
